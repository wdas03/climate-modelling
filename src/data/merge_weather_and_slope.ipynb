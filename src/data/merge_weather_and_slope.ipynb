{
 "cells": [
  {
   "cell_type": "code",
   "execution_count": null,
   "metadata": {},
   "outputs": [],
   "source": [
    "import pandas as pd\n",
    "\n",
    "df1 = pd.read_csv(\"fire_events_with_weather_metrics.csv\")\n",
    "df2 = pd.read_csv(\"ignition_slope_data_unprocessed.csv\")\n",
    "\n",
    "df2.rename(columns={'Unnamed: 0': 'id'}, inplace=True)\n",
    "\n"
   ]
  },
  {
   "cell_type": "code",
   "execution_count": null,
   "metadata": {},
   "outputs": [],
   "source": [
    "df2.columns"
   ]
  },
  {
   "cell_type": "code",
   "execution_count": null,
   "metadata": {},
   "outputs": [],
   "source": [
    "merged_df = pd.merge(df1, df2, on=\"id\", how=\"inner\")\n",
    "\n",
    "merged_df = merged_df.drop_duplicates()\n",
    "\n",
    "merged_df = merged_df.dropna()\n",
    "\n",
    "merged_df.to_csv(\"merged.csv\", index=False)\n"
   ]
  },
  {
   "cell_type": "code",
   "execution_count": null,
   "metadata": {},
   "outputs": [],
   "source": [
    "print(len(merged_df))\n",
    "merged_df.head(5)"
   ]
  }
 ],
 "metadata": {
  "language_info": {
   "name": "python"
  },
  "orig_nbformat": 4
 },
 "nbformat": 4,
 "nbformat_minor": 2
}

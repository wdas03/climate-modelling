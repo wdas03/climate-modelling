{
  "cells": [
    {
      "cell_type": "code",
      "execution_count": null,
      "metadata": {
        "vscode": {
          "languageId": "plaintext"
        }
      },
      "outputs": [],
      "source": [
        "from google.colab import drive\n",
        "\n",
        "drive.mount('/content/drive')\n",
        "FIRED_DATAPATH = 'drive/MyDrive/ClimateML/data/data/conus_ak'"
      ]
    },
    {
      "cell_type": "code",
      "execution_count": null,
      "metadata": {
        "vscode": {
          "languageId": "plaintext"
        }
      },
      "outputs": [],
      "source": [
        "!ls"
      ]
    },
    {
      "cell_type": "code",
      "execution_count": null,
      "metadata": {
        "vscode": {
          "languageId": "plaintext"
        }
      },
      "outputs": [],
      "source": [
        "%%capture\n",
        "!pip install rasterio"
      ]
    },
    {
      "cell_type": "code",
      "execution_count": null,
      "metadata": {
        "vscode": {
          "languageId": "plaintext"
        }
      },
      "outputs": [],
      "source": [
        "import pandas as pd\n",
        "import numpy as np\n",
        "import geopandas as gpd\n",
        "import rasterio\n",
        "from rasterio.sample import sample_gen\n",
        "from shapely.wkt import loads\n",
        "from shapely.geometry import Point, MultiPolygon\n",
        "from sklearn.ensemble import RandomForestRegressor\n",
        "from sklearn.model_selection import train_test_split\n",
        "from sklearn.metrics import mean_squared_error, r2_score\n",
        "import matplotlib.pyplot as plt\n",
        "from tqdm import tqdm\n",
        "import os\n",
        "\n",
        "print(\"Loading FIRED CONUS dataset...\")\n",
        "fired_conus_ak_df = pd.read_csv('drive/MyDrive/ClimateML/data/data/conus_ak/fired_conus_ak_2000_to_2024_events.csv')\n",
        "\n",
        "df = fired_conus_ak_df.copy()\n",
        "\n",
        "ignition_data = []\n",
        "\n",
        "fire_ids = df['id'].unique()\n",
        "print(f\"Found {len(fire_ids)} unique fire events\")\n",
        "\n",
        "\n",
        "ELEV_DATA_DIR = 'drive/MyDrive/ClimateML/data/data/LF2020_Elev_220_CONUS'\n",
        "# FIRED_DATA_PATH = 'drive/MyDrive/ClimateML/data/data/conus_ak/fired_conus_ak_2000_to_2024_events.csv'\n",
        "\n",
        "dem_path = \"drive/MyDrive/ClimateML/data/data/LF2020_Elev_220_CONUS/Tif/LC20_Elev_220.tif\"\n",
        "slope_deg_path = 'drive/MyDrive/ClimateML/data/data/LF2020_SlpD_220_CONUS/Tif/LC20_SlpD_220.tif'\n",
        "slope_pct_path = 'drive/MyDrive/ClimateML/data/data/LF2020_SlpP_220_CONUS/Tif/LC20_SlpP_220.tif'\n",
        "\n",
        "\n",
        "if os.path.exists(dem_path):\n",
        "    try:\n",
        "        dem = rasterio.open(dem_path)\n",
        "        print(f\"DEM loaded from file: {dem_path}\")\n",
        "        dem_crs = dem.crs\n",
        "        print(f\"DEM CRS: {dem_crs}\")\n",
        "    except Exception as e:\n",
        "        print(f\"Error loading DEM: {e}\")\n",
        "        dem = None\n",
        "else:\n",
        "    print(f\"DEM file not found at {dem_path}\")\n",
        "    dem = None\n",
        "\n",
        "if os.path.exists(slope_deg_path):\n",
        "    try:\n",
        "        slope_deg = rasterio.open(slope_deg_path)\n",
        "        print(f\"Slope Degrees loaded from file: {slope_deg_path}\")\n",
        "        slope_deg_crs = slope_deg.crs\n",
        "        print(f\"Slope Degrees CRS: {slope_deg_crs}\")\n",
        "    except Exception as e:\n",
        "        print(f\"Error loading Slope Degrees: {e}\")\n",
        "        dem = None\n",
        "else:\n",
        "    print(f\"Slope Degrees file not found at {slope_deg_path}\")\n",
        "    slope_deg = None\n",
        "\n",
        "if os.path.exists(slope_pct_path):\n",
        "    try:\n",
        "        slope_pct = rasterio.open(slope_pct_path)\n",
        "        print(f\"Slope Pct loaded from file: {slope_pct_path}\")\n",
        "        slope_pct_crs = slope_pct.crs\n",
        "        print(f\"Slope Pct CRS: {slope_pct_crs}\")\n",
        "    except Exception as e:\n",
        "        print(f\"Error loading Slope Pct: {e}\")\n",
        "        slope_pct = None\n",
        "else:\n",
        "    print(f\"Slope Pct file not found at {slope_pct_path}\")\n",
        "    dem = None"
      ]
    },
    {
      "cell_type": "markdown",
      "metadata": {},
      "source": [
        "# Extract data"
      ]
    },
    {
      "cell_type": "code",
      "execution_count": null,
      "metadata": {
        "vscode": {
          "languageId": "plaintext"
        }
      },
      "outputs": [],
      "source": [
        "if dem is not None and slope_deg is not None and slope_pct is not None:\n",
        "    for fire_id in tqdm(fire_ids):\n",
        "        fire_data = df[df['id'] == fire_id].sort_values('event_dur')\n",
        "        if len(fire_data) == 0:\n",
        "            continue\n",
        "\n",
        "        ignition = fire_data.iloc[0]\n",
        "\n",
        "        if 'geometry' in ignition and pd.notna(ignition['geometry']):\n",
        "            geom = loads(ignition['geometry']) if isinstance(ignition['geometry'], str) else ignition['geometry']\n",
        "        elif 'ig_utm_x' in ignition and 'ig_utm_y' in ignition:\n",
        "            geom = Point(ignition['ig_utm_x'], ignition['ig_utm_y'])\n",
        "        else:\n",
        "            continue\n",
        "\n",
        "        point_gdf = gpd.GeoDataFrame(geometry=[geom], crs=\"EPSG:3857\")\n",
        "        point_gdf = point_gdf.to_crs(dem.crs)\n",
        "        ignition_geom = point_gdf.geometry.iloc[0]\n",
        "\n",
        "        try:\n",
        "            if isinstance(ignition_geom, Point):\n",
        "                x, y = ignition_geom.x, ignition_geom.y\n",
        "            elif isinstance(ignition_geom, (MultiPolygon)):\n",
        "                centroid = ignition_geom.centroid\n",
        "                x, y = centroid.x, centroid.y\n",
        "            else:\n",
        "                rep_point = ignition_geom.representative_point()\n",
        "                x, y = rep_point.x, rep_point.y\n",
        "\n",
        "            # Sample elevation\n",
        "            elev_vals = list(sample_gen(dem, [(x, y)]))\n",
        "            ignition_elev = float(elev_vals[0][0]) if elev_vals and elev_vals[0][0] is not None else None\n",
        "            if ignition_elev is None:\n",
        "                continue\n",
        "\n",
        "            # Sample slope (deg)\n",
        "            slope_deg_val = list(sample_gen(slope_deg, [(x, y)]))\n",
        "            ignition_slope_deg = float(slope_deg_val[0][0]) if slope_deg_val and slope_deg_val[0][0] is not None else np.nan\n",
        "\n",
        "            # Sample slope (%)\n",
        "            slope_pct_val = list(sample_gen(slope_pct, [(x, y)]))\n",
        "            ignition_slope_pct = float(slope_pct_val[0][0]) if slope_pct_val and slope_pct_val[0][0] is not None else np.nan\n",
        "\n",
        "            # Clip outliers (optional)\n",
        "            ignition_slope_deg = np.clip(ignition_slope_deg, 0, 60)\n",
        "            ignition_slope_pct = np.clip(ignition_slope_pct, 0, 100)\n",
        "\n",
        "            # Elevation buffer\n",
        "            centroid = ignition_geom.centroid\n",
        "            buffer_size = 1000\n",
        "            buffer_geom = centroid.buffer(buffer_size / 111000)\n",
        "            buffer_gdf = gpd.GeoDataFrame(geometry=[buffer_geom], crs=dem.crs)\n",
        "            minx, miny, maxx, maxy = buffer_gdf.total_bounds\n",
        "\n",
        "            x_points = np.linspace(minx, maxx, 10)\n",
        "            y_points = np.linspace(miny, maxy, 10)\n",
        "\n",
        "            buffer_elevations = []\n",
        "            for x_grid in x_points:\n",
        "                for y_grid in y_points:\n",
        "                    point = Point(x_grid, y_grid)\n",
        "                    if buffer_geom.contains(point):\n",
        "                        elev = list(sample_gen(dem, [(x_grid, y_grid)]))\n",
        "                        if elev and elev[0][0] is not None:\n",
        "                            buffer_elevations.append(float(elev[0][0]))\n",
        "\n",
        "            if buffer_elevations:\n",
        "                mean_elev = np.mean(buffer_elevations)\n",
        "                min_elev = np.min(buffer_elevations)\n",
        "                max_elev = np.max(buffer_elevations)\n",
        "                std_elev = np.std(buffer_elevations)\n",
        "                range_elev = max_elev - min_elev\n",
        "\n",
        "                ignition_data.append({\n",
        "                    'fire_id': fire_id,\n",
        "                    'ig_date': ignition.get('ig_date'),\n",
        "                    'fsr_km2_dy': ignition.get('fsr_km2_dy'),\n",
        "                    'tot_ar_km2': ignition.get('tot_ar_km2'),\n",
        "                    'event_dur': ignition.get('event_dur'),\n",
        "                    'ignition_elev': ignition_elev,\n",
        "                    'mean_elev': mean_elev,\n",
        "                    'min_elev': min_elev,\n",
        "                    'max_elev': max_elev,\n",
        "                    'std_elev': std_elev,\n",
        "                    'range_elev': range_elev,\n",
        "                    'land_cover': ignition.get('lc_name'),\n",
        "                    'ecoregion': ignition.get('eco_name'),\n",
        "                    'ignition_slope_deg': ignition_slope_deg,\n",
        "                    'ignition_slope_pct': ignition_slope_pct\n",
        "                })\n",
        "\n",
        "        except Exception as e:\n",
        "            print(f\"Error processing fire ID {fire_id}: {e}\")\n",
        "            continue\n",
        "else:\n",
        "    print(\"Cannot proceed without a valid DEM.\")"
      ]
    }
  ],
  "metadata": {
    "accelerator": "GPU",
    "colab": {
      "gpuType": "T4",
      "provenance": []
    },
    "kernelspec": {
      "display_name": "311_env",
      "language": "python",
      "name": "python3"
    },
    "language_info": {
      "codemirror_mode": {
        "name": "ipython",
        "version": 3
      },
      "file_extension": ".py",
      "mimetype": "text/x-python",
      "name": "python",
      "nbconvert_exporter": "python",
      "pygments_lexer": "ipython3",
      "version": "3.11.5"
    }
  },
  "nbformat": 4,
  "nbformat_minor": 0
}
